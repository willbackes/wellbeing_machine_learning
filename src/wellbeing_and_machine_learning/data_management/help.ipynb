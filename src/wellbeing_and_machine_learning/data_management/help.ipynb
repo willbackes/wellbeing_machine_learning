{
 "cells": [
  {
   "cell_type": "code",
   "execution_count": null,
   "metadata": {},
   "outputs": [],
   "source": [
    "import numpy as np\n",
    "import pandas as pd\n",
    "from pandas import NA\n",
    "\n",
    "from wellbeing_and_machine_learning.config import BLD"
   ]
  },
  {
   "cell_type": "code",
   "execution_count": null,
   "metadata": {},
   "outputs": [],
   "source": [
    "data = pd.read_pickle(BLD / \"data\" / \"merge_individual_and_household.pkl\")"
   ]
  },
  {
   "cell_type": "code",
   "execution_count": null,
   "metadata": {},
   "outputs": [],
   "source": [
    "data[\"hhgr\"].value_counts()"
   ]
  },
  {
   "cell_type": "code",
   "execution_count": null,
   "metadata": {},
   "outputs": [],
   "source": [
    "def clean_data(merged_data):\n",
    "    valid_data = pd.DataFrame()\n",
    "    valid_data = _clean_invalid_data(merged_data)\n",
    "    valid_data[\"hghinc\"] = valid_data[\"hghinc\"].astype(pd.Float64Dtype())\n",
    "\n",
    "    df = pd.DataFrame()\n",
    "    df[\"pid\"] = valid_data[\"pid\"]\n",
    "    df[\"hid\"] = valid_data[\"hid\"]\n",
    "    df[\"cid\"] = valid_data[\"cid_x_x\"].astype(pd.UInt64Dtype())\n",
    "    df[\"syear\"] = valid_data[\"syear\"].astype(pd.UInt16Dtype())\n",
    "    df[\"smonth\"] = _extract_number_from_brackets(valid_data[\"pmonin\"])\n",
    "    df[\"age\"] = valid_data[\"syear\"] - valid_data[\"gebjahr\"]\n",
    "    df[\"agesquared\"] = df[\"age\"] ** 2\n",
    "    df[\"birthregion\"] = _extract_number_from_brackets(valid_data[\"birthregion\"])\n",
    "    df[\"weight\"] = valid_data[\"ple0007\"].astype(pd.UInt16Dtype())\n",
    "    df[\"height\"] = valid_data[\"ple0006\"].astype(pd.UInt16Dtype()) / 100\n",
    "    df[\"bmi\"] = df[\"weight\"] / (df[\"height\"] ** 2)\n",
    "    df[\"disability\"] = _clean_binary_data(valid_data[\"plc0446\"], is_one=\"[1] Ja\")\n",
    "    df[\"education\"] = valid_data[\"pgbilzeit\"].astype(pd.Float32Dtype())\n",
    "    df[\"labourstatus\"] = _clean_binary_data(\n",
    "        valid_data[\"pglfs\"],\n",
    "        is_one=\"[11] Erwerbstätig\",\n",
    "    )\n",
    "    df[\"logincome\"] = np.log(valid_data[\"hghinc\"])\n",
    "    df[\"migback\"] = _extract_number_from_brackets(valid_data[\"migback\"])\n",
    "    df[\"health\"] = valid_data[\"ple0059\"].astype(pd.UInt8Dtype())\n",
    "    df[\"housingstatus\"] = _extract_number_from_brackets(valid_data[\"hlf0001_v3\"])\n",
    "    df[\"maritalstatus\"] = _clean_marital_status(valid_data[\"pgfamstd\"])\n",
    "    df[\"religion\"] = _extract_number_from_brackets(valid_data[\"plh0258_h\"])\n",
    "    df[\"sex\"] = _extract_number_from_brackets(valid_data[\"sex\"]) - 1\n",
    "    df[\"workinghours\"] = valid_data[\"plb0183\"].astype(pd.Float64Dtype())\n",
    "    df[\"numberofpeople\"] = (\n",
    "        valid_data[\"hhgr\"]\n",
    "        .replace(\"[0] Aufgeloeste/n.bearbeitete Haushalte\", NA)\n",
    "        .astype(pd.UInt8Dtype())\n",
    "    )\n",
    "\n",
    "    return df\n",
    "\n",
    "\n",
    "def _clean_invalid_data(data):\n",
    "    invalid_data_mapping = {\n",
    "        \"[-1] keine Angabe\": NA,\n",
    "        \"[-2] trifft nicht zu\": NA,\n",
    "        \"[-3] nicht valide\": NA,  # codespell:ignore\n",
    "        \"[-4] Unzulaessige Mehrfachantwort\": NA,\n",
    "        \"[-5] in Fragebogenversion nicht enthalten\": NA,\n",
    "        \"[-6] Fragebogenversion mit geaenderter Filterfuehrung\": NA,\n",
    "        \"[-7] Nur in weniger eingeschränkter Edition verfügbar\": NA,\n",
    "        \"[-8] Frage in diesem Jahr nicht Teil des Frageprogramms\": NA,\n",
    "    }\n",
    "    return data.replace(invalid_data_mapping)\n",
    "\n",
    "\n",
    "def _extract_number_from_brackets(data):\n",
    "    df = data.str.extract(r\"\\[(\\d+)\\]\")\n",
    "    return df.astype(pd.UInt16Dtype())\n",
    "\n",
    "\n",
    "def _clean_binary_data(data, is_one):\n",
    "    df = data.apply(lambda x: 1 if x == is_one else 0)\n",
    "    return df.astype(pd.UInt8Dtype())\n",
    "\n",
    "\n",
    "def _clean_marital_status(data):\n",
    "    invalid_marital_data = {\n",
    "        \"[6] Ehepartner im Ausland\": NA,\n",
    "        \"[7] Eingetragene gleichgeschlechtliche Partnerschaft zusammenlebend\": NA,\n",
    "        \"[8] Eingetragene gleichgeschlechtliche Partnerschaft getrennt lebend\": NA,\n",
    "    }\n",
    "    df = data.replace(invalid_marital_data)\n",
    "    return _extract_number_from_brackets(df)"
   ]
  },
  {
   "cell_type": "code",
   "execution_count": null,
   "metadata": {},
   "outputs": [],
   "source": [
    "df = clean_data(data)"
   ]
  },
  {
   "cell_type": "code",
   "execution_count": null,
   "metadata": {},
   "outputs": [],
   "source": [
    "df[\"numberofpeople\"]"
   ]
  },
  {
   "cell_type": "code",
   "execution_count": null,
   "metadata": {},
   "outputs": [],
   "source": [
    "clean_data = pd.read_pickle(BLD / \"data\" / \"clean_data.pkl\")"
   ]
  },
  {
   "cell_type": "code",
   "execution_count": null,
   "metadata": {},
   "outputs": [],
   "source": [
    "clean_data.columns"
   ]
  }
 ],
 "metadata": {
  "language_info": {
   "codemirror_mode": {
    "name": "ipython",
    "version": 3
   },
   "file_extension": ".py",
   "mimetype": "text/x-python",
   "name": "python",
   "nbconvert_exporter": "python",
   "pygments_lexer": "ipython3"
  }
 },
 "nbformat": 4,
 "nbformat_minor": 2
}

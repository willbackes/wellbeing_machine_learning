{
 "cells": [
  {
   "cell_type": "code",
   "execution_count": null,
   "metadata": {},
   "outputs": [],
   "source": [
    "import pandas as pd\n",
    "\n",
    "from wellbeing_and_machine_learning.config import BLD"
   ]
  },
  {
   "cell_type": "code",
   "execution_count": null,
   "metadata": {},
   "outputs": [],
   "source": [
    "ppathl = pd.read_stata(\n",
    "    BLD / \"data\" / \"unzip\" / \"ppathl.dta\",\n",
    "    columns=[\"pid\", \"cid\", \"syear\", \"gebjahr\", \"birthregion\", \"migback\", \"sex\"],\n",
    ")"
   ]
  },
  {
   "cell_type": "code",
   "execution_count": null,
   "metadata": {},
   "outputs": [],
   "source": [
    "ppathl.info()"
   ]
  },
  {
   "cell_type": "code",
   "execution_count": null,
   "metadata": {},
   "outputs": [],
   "source": [
    "pgen = pd.read_stata(\n",
    "    BLD / \"data\" / \"unzip\" / \"pgen.dta\",\n",
    "    columns=[\"pid\", \"cid\", \"syear\", \"pgbilzeit\", \"pglfs\", \"pgfamstd\"],\n",
    ")"
   ]
  },
  {
   "cell_type": "code",
   "execution_count": null,
   "metadata": {},
   "outputs": [],
   "source": [
    "pgen.info()"
   ]
  },
  {
   "cell_type": "code",
   "execution_count": null,
   "metadata": {},
   "outputs": [],
   "source": [
    "hgen = pd.read_stata(BLD / \"data\" / \"unzip\" / \"hgen.dta\")"
   ]
  },
  {
   "cell_type": "code",
   "execution_count": null,
   "metadata": {},
   "outputs": [],
   "source": [
    "hgen.info()"
   ]
  },
  {
   "cell_type": "code",
   "execution_count": null,
   "metadata": {},
   "outputs": [],
   "source": [
    "chunksize = 10**6  # adjust this value depending on your system's memory\n",
    "chunks = []\n",
    "\n",
    "for chunk in pd.read_stata(\n",
    "    BLD / \"data\" / \"unzip\" / \"pl.dta\",\n",
    "    columns=[\n",
    "        \"pid\",\n",
    "        \"cid\",\n",
    "        \"syear\",\n",
    "        \"ple0006\",\n",
    "        \"ple0007\",\n",
    "        \"plc0446\",\n",
    "        \"ple0059\",\n",
    "        \"pmonin\",\n",
    "        \"plh0258_h\",\n",
    "        \"plb0178\",\n",
    "        \"plh0182\",\n",
    "    ],\n",
    "    chunksize=chunksize,\n",
    "):\n",
    "    chunks.append(chunk)\n",
    "\n",
    "pl = pd.concat(chunks, axis=0)"
   ]
  },
  {
   "cell_type": "code",
   "execution_count": null,
   "metadata": {},
   "outputs": [],
   "source": [
    "pl.info()"
   ]
  },
  {
   "cell_type": "code",
   "execution_count": null,
   "metadata": {},
   "outputs": [],
   "source": [
    "hbrutto = pd.read_stata(\n",
    "    BLD / \"data\" / \"unzip\" / \"hbrutto.dta\",\n",
    "    columns=[\"cid\", \"syear\", \"hhgr\"],\n",
    ")"
   ]
  },
  {
   "cell_type": "code",
   "execution_count": null,
   "metadata": {},
   "outputs": [],
   "source": [
    "hbrutto.info()"
   ]
  },
  {
   "cell_type": "code",
   "execution_count": null,
   "metadata": {},
   "outputs": [],
   "source": [
    "hl = pd.read_stata(\n",
    "    BLD / \"data\" / \"unzip\" / \"hl.dta\",\n",
    "    columns=[\"cid\", \"syear\", \"hlf0001_v3\"],\n",
    ")"
   ]
  },
  {
   "cell_type": "code",
   "execution_count": null,
   "metadata": {},
   "outputs": [],
   "source": [
    "hl.info()"
   ]
  },
  {
   "cell_type": "code",
   "execution_count": null,
   "metadata": {},
   "outputs": [],
   "source": [
    "individual_data = pd.read_pickle(BLD / \"data\" / \"individual_data.pkl\")"
   ]
  },
  {
   "cell_type": "code",
   "execution_count": null,
   "metadata": {},
   "outputs": [],
   "source": [
    "individual_data.info()"
   ]
  },
  {
   "cell_type": "code",
   "execution_count": null,
   "metadata": {},
   "outputs": [],
   "source": [
    "individual_data.head()"
   ]
  },
  {
   "cell_type": "code",
   "execution_count": null,
   "metadata": {},
   "outputs": [],
   "source": [
    "household_data = pd.read_pickle(BLD / \"data\" / \"household_data.pkl\")"
   ]
  },
  {
   "cell_type": "code",
   "execution_count": null,
   "metadata": {},
   "outputs": [],
   "source": [
    "household_data.info()"
   ]
  },
  {
   "cell_type": "code",
   "execution_count": null,
   "metadata": {},
   "outputs": [],
   "source": [
    "household_data[50:100]"
   ]
  },
  {
   "cell_type": "code",
   "execution_count": null,
   "metadata": {},
   "outputs": [],
   "source": [
    "data = pd.read_pickle(BLD / \"data\" / \"merge_individual_and_household.pkl\")"
   ]
  },
  {
   "cell_type": "code",
   "execution_count": null,
   "metadata": {},
   "outputs": [],
   "source": [
    "data.info()"
   ]
  },
  {
   "cell_type": "code",
   "execution_count": null,
   "metadata": {},
   "outputs": [],
   "source": [
    "ppathl.loc[ppathl[\"pid\"] == 201]"
   ]
  },
  {
   "cell_type": "code",
   "execution_count": null,
   "metadata": {},
   "outputs": [],
   "source": [
    "hgen.loc[hgen[\"cid\"] == 27]"
   ]
  },
  {
   "cell_type": "code",
   "execution_count": null,
   "metadata": {},
   "outputs": [],
   "source": [
    "hbrutto.loc[hbrutto[\"cid\"] == 27]"
   ]
  },
  {
   "cell_type": "code",
   "execution_count": null,
   "metadata": {},
   "outputs": [],
   "source": [
    "data[50:100]"
   ]
  }
 ],
 "metadata": {
  "language_info": {
   "codemirror_mode": {
    "name": "ipython",
    "version": 3
   },
   "file_extension": ".py",
   "mimetype": "text/x-python",
   "name": "python",
   "nbconvert_exporter": "python",
   "pygments_lexer": "ipython3"
  }
 },
 "nbformat": 4,
 "nbformat_minor": 2
}

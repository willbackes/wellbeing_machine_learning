{
 "cells": [
  {
   "cell_type": "code",
   "execution_count": null,
   "metadata": {},
   "outputs": [],
   "source": [
    "import pandas as pd\n",
    "\n",
    "from wellbeing_and_machine_learning.config import BLD"
   ]
  },
  {
   "cell_type": "code",
   "execution_count": null,
   "metadata": {},
   "outputs": [],
   "source": [
    "ppathl = pd.read_stata(\n",
    "    BLD / \"data\" / \"ppathl.dta\",\n",
    "    columns=[\"pid\", \"cid\", \"syear\", \"gebjahr\", \"birthregion\", \"migback\", \"sex\"],\n",
    ")"
   ]
  },
  {
   "cell_type": "code",
   "execution_count": null,
   "metadata": {},
   "outputs": [],
   "source": [
    "pgen = pd.read_stata(\n",
    "    BLD / \"data\" / \"pgen.dta\",\n",
    "    columns=[\"pid\", \"cid\", \"syear\", \"pgbilzeit\", \"pglfs\", \"pgfamstd\"],\n",
    ")"
   ]
  },
  {
   "cell_type": "code",
   "execution_count": null,
   "metadata": {},
   "outputs": [],
   "source": [
    "hgen = pd.read_stata(BLD / \"data\" / \"hgen.dta\", columns=[\"cid\", \"syear\", \"hghinc\"])"
   ]
  },
  {
   "cell_type": "code",
   "execution_count": null,
   "metadata": {},
   "outputs": [],
   "source": [
    "chunksize = 10**6  # adjust this value depending on your system's memory\n",
    "chunks = []\n",
    "\n",
    "for chunk in pd.read_stata(\n",
    "    BLD / \"data\" / \"pl.dta\",\n",
    "    columns=[\n",
    "        \"pid\",\n",
    "        \"cid\",\n",
    "        \"syear\",\n",
    "        \"ple0006\",\n",
    "        \"ple0007\",\n",
    "        \"plc0446\",\n",
    "        \"ple0059\",\n",
    "        \"pmonin\",\n",
    "        \"plh0258_h\",\n",
    "        \"plb0178\",\n",
    "        \"plh0182\",\n",
    "    ],\n",
    "    chunksize=chunksize,\n",
    "):\n",
    "    chunks.append(chunk)\n",
    "\n",
    "pl = pd.concat(chunks, axis=0)"
   ]
  },
  {
   "cell_type": "code",
   "execution_count": null,
   "metadata": {},
   "outputs": [],
   "source": [
    "hbrutto = pd.read_stata(BLD / \"data\" / \"hbrutto.dta\", columns=[\"cid\", \"syear\", \"hhgr\"])"
   ]
  },
  {
   "cell_type": "code",
   "execution_count": null,
   "metadata": {},
   "outputs": [],
   "source": [
    "hl = pd.read_stata(BLD / \"data\" / \"hl.dta\", columns=[\"cid\", \"syear\", \"hlf0001_v3\"])"
   ]
  },
  {
   "cell_type": "code",
   "execution_count": null,
   "metadata": {},
   "outputs": [],
   "source": [
    "merge_household = pd.DataFrame()\n",
    "merge_household = pd.merge(hgen, hbrutto, on=[\"cid\", \"syear\"], how=\"outer\")"
   ]
  },
  {
   "cell_type": "code",
   "execution_count": null,
   "metadata": {},
   "outputs": [],
   "source": [
    "merge_household = pd.merge(merge_household, hl, on=[\"cid\", \"syear\"], how=\"outer\")"
   ]
  },
  {
   "cell_type": "code",
   "execution_count": null,
   "metadata": {},
   "outputs": [],
   "source": [
    "merge_household.size"
   ]
  },
  {
   "cell_type": "code",
   "execution_count": null,
   "metadata": {},
   "outputs": [],
   "source": [
    "hl.size"
   ]
  },
  {
   "cell_type": "code",
   "execution_count": null,
   "metadata": {},
   "outputs": [],
   "source": [
    "merge_household.head()"
   ]
  },
  {
   "cell_type": "code",
   "execution_count": null,
   "metadata": {},
   "outputs": [],
   "source": [
    "def merge_household_data(household_data):\n",
    "    merged_df = household_data[0]\n",
    "    for df in household_data[1:]:\n",
    "        merged_df = merged_df.merge(df, on=[\"cid\", \"syear\"], how=\"outer\")\n",
    "    return merged_df"
   ]
  },
  {
   "cell_type": "code",
   "execution_count": null,
   "metadata": {},
   "outputs": [],
   "source": [
    "household_data = [hgen, hbrutto, hl]"
   ]
  },
  {
   "cell_type": "code",
   "execution_count": null,
   "metadata": {},
   "outputs": [],
   "source": [
    "test = merge_household_data(household_data)"
   ]
  },
  {
   "cell_type": "code",
   "execution_count": null,
   "metadata": {},
   "outputs": [],
   "source": [
    "test.head()"
   ]
  }
 ],
 "metadata": {
  "language_info": {
   "codemirror_mode": {
    "name": "ipython",
    "version": 3
   },
   "file_extension": ".py",
   "mimetype": "text/x-python",
   "name": "python",
   "nbconvert_exporter": "python",
   "pygments_lexer": "ipython3"
  }
 },
 "nbformat": 4,
 "nbformat_minor": 2
}
